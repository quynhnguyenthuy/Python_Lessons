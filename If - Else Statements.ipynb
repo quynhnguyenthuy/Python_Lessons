{
 "cells": [
  {
   "cell_type": "markdown",
   "id": "8840d751",
   "metadata": {},
   "source": [
    "Sử dụng câu điều kiện If khi điều kiện là Đúng.\n",
    "Trong trường hợp điều kiện sai thì Else được thực hiện.\n",
    "\n",
    "Syntax: \n",
    "    \n",
    "if <condition> \n",
    "    \"Body of IF statement\"\n",
    "else:\n",
    "    \"Body of Elese statement\""
   ]
  },
  {
   "cell_type": "markdown",
   "id": "0b12056b",
   "metadata": {},
   "source": []
  },
  {
   "attachments": {
    "39a4bd78e7ec1fee13c1ad8374a5d3b6.png": {
     "image/png": "[encoded data removed]"
    }
   },
   "cell_type": "markdown",
   "id": "13d7ea1d",
   "metadata": {},
   "source": [
    "![39a4bd78e7ec1fee13c1ad8374a5d3b6.png](attachment:39a4bd78e7ec1fee13c1ad8374a5d3b6.png)"
   ]
  },
  {
   "cell_type": "code",
   "execution_count": 1,
   "id": "f497ba28",
   "metadata": {},
   "outputs": [
    {
     "name": "stdout",
     "output_type": "stream",
     "text": [
      "The value is greater than 10\n"
     ]
    }
   ],
   "source": [
    "# Nếu 1 expression là True, thì statement được thực hiện.\n",
    "\n",
    "value = 100\n",
    "\n",
    "if value>10: \n",
    "    print(\"The value is greater than 10\")"
   ]
  },
  {
   "cell_type": "code",
   "execution_count": null,
   "id": "03cc1813",
   "metadata": {},
   "outputs": [],
   "source": [
    "# Nếu 1 expression không là True, thì statement không được thực hiện.\n",
    "\n",
    "value = 9\n",
    "\n",
    "if value>10:\n",
    "    print(\"The value is greater than 10\")"
   ]
  },
  {
   "cell_type": "code",
   "execution_count": null,
   "id": "4c8d8a5c",
   "metadata": {},
   "outputs": [],
   "source": [
    "Trong trường hợp IF - ELSE"
   ]
  },
  {
   "cell_type": "code",
   "execution_count": 2,
   "id": "f74bbcc1",
   "metadata": {},
   "outputs": [
    {
     "name": "stdout",
     "output_type": "stream",
     "text": [
      "The value is not greater than 10\n"
     ]
    }
   ],
   "source": [
    "value = 9\n",
    "\n",
    "if value>10:\n",
    "    print(\"The value is greater than 10\")\n",
    "else:\n",
    "    print(\"The value is not greater than 10\") "
   ]
  },
  {
   "cell_type": "code",
   "execution_count": 3,
   "id": "a14225cd",
   "metadata": {},
   "outputs": [
    {
     "name": "stdout",
     "output_type": "stream",
     "text": [
      "You have entered the wrong PIN\n"
     ]
    }
   ],
   "source": [
    "# Xác định mã PIN user\n",
    "\n",
    "PIN = 1234\n",
    "\n",
    "if PIN == 12345:\n",
    "    print(\"You have entered the correct PIN\")\n",
    "else:\n",
    "    print(\"You have entered the wrong PIN\")"
   ]
  },
  {
   "cell_type": "code",
   "execution_count": 4,
   "id": "1710d268",
   "metadata": {},
   "outputs": [
    {
     "name": "stdout",
     "output_type": "stream",
     "text": [
      "Yes\n"
     ]
    }
   ],
   "source": [
    "x = 500\n",
    "y = 600\n",
    "\n",
    "if x<y:\n",
    "    print(\"Yes\")\n",
    "else:\n",
    "    print(\"No\")"
   ]
  },
  {
   "cell_type": "code",
   "execution_count": 5,
   "id": "d3bba600",
   "metadata": {},
   "outputs": [
    {
     "name": "stdout",
     "output_type": "stream",
     "text": [
      "No\n"
     ]
    }
   ],
   "source": [
    "x = 500\n",
    "y = 600\n",
    "\n",
    "if x>y:\n",
    "    print(\"Yes\")\n",
    "else:\n",
    "    print(\"No\")"
   ]
  },
  {
   "cell_type": "code",
   "execution_count": null,
   "id": "daade48e",
   "metadata": {},
   "outputs": [],
   "source": [
    "Elif Statements - To check for multiple conditions"
   ]
  },
  {
   "cell_type": "code",
   "execution_count": 7,
   "id": "42deb4ce",
   "metadata": {},
   "outputs": [
    {
     "name": "stdout",
     "output_type": "stream",
     "text": [
      "You are eligible\n"
     ]
    }
   ],
   "source": [
    "# Check the eligibility of a student depending on Marks & Language\n",
    "\n",
    "marks = 80\n",
    "language = \"Hindi\"\n",
    "\n",
    "if (marks>75 and language ==\"Hindi\"):\n",
    "    print(\"You are eligible\")\n",
    "elif (marks<75 and language ==\"Hindi\"):\n",
    "    print(\"You have got marks less than 75\")\n",
    "elif (language != \"Hindi\" and marks>75):\n",
    "    print(\"You must know Hindi language\")\n",
    "else: \n",
    "    print(\"You are not eligible\")"
   ]
  },
  {
   "cell_type": "code",
   "execution_count": 1,
   "id": "8bef0fbc",
   "metadata": {},
   "outputs": [
    {
     "name": "stdout",
     "output_type": "stream",
     "text": [
      "Enter the amount for the item: 250\n",
      "Enter the state name in USA: Virginia\n",
      "Shopping Cost in Virginia is $15\n"
     ]
    }
   ],
   "source": [
    "# package delivery cost based on location and total amount\n",
    "\n",
    "total = int(input(\"Enter the amount for the item: \"))\n",
    "state = input(\"Enter the state name in USA: \")\n",
    "if state == \"Texas\":\n",
    "    if total <= 150:\n",
    "        print(\"Shopping Cost in Texas is $30\")\n",
    "    elif total > 150 and total <= 250:\n",
    "        print(\"Shopping Cost in Texas is $20\")\n",
    "    else:\n",
    "        print(\"Shopping Cost in Texas is $5\")\n",
    "        \n",
    "elif state == \"Florida\":\n",
    "    if total <= 150:\n",
    "        print(\"Shopping Cost in Florida is $45\")\n",
    "    elif total > 150 and total <= 250: \n",
    "         print(\"Shopping Cost in Florida is $35\")\n",
    "    else:\n",
    "        print(\"Shopping Cost in Florida is $10\")\n",
    "\n",
    "elif state == \"Virginia\":\n",
    "    if total <= 150:\n",
    "        print(\"Shopping Cost in Virginia is $23\")\n",
    "    elif total > 150 and total <= 250: \n",
    "         print(\"Shopping Cost in Virginia is $15\")\n",
    "    else:\n",
    "        print(\"Shopping Cost in Virginia is $5\") \n",
    "        \n",
    "elif state == \"New Jersey\":\n",
    "    if total <= 150:\n",
    "        print(\"Shopping Cost in New Jersey is $40\")\n",
    "    elif total > 150 and total <= 250: \n",
    "         print(\"Shopping Cost in New Jersey is $10\")\n",
    "    else:\n",
    "        print(\"Shopping Cost in FREE\") "
   ]
  }
 ],
 "metadata": {
  "kernelspec": {
   "display_name": "Python 3 (ipykernel)",
   "language": "python",
   "name": "python3"
  },
  "language_info": {
   "codemirror_mode": {
    "name": "ipython",
    "version": 3
   },
   "file_extension": ".py",
   "mimetype": "text/x-python",
   "name": "python",
   "nbconvert_exporter": "python",
   "pygments_lexer": "ipython3",
   "version": "3.10.9"
  }
 },
 "nbformat": 4,
 "nbformat_minor": 5
}
