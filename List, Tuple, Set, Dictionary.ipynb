{
 "cells": [
  {
   "cell_type": "markdown",
   "id": "ee38c4fb",
   "metadata": {},
   "source": [
    "### Data types in Python:\n",
    "\n",
    "1. Integer\n",
    "2. Float\n",
    "3. String\n",
    "4. List\n",
    "5. Tuple\n",
    "6. Set\n",
    "7. Dictionary"
   ]
  },
  {
   "cell_type": "markdown",
   "id": "38085e08",
   "metadata": {},
   "source": [
    "## LIST"
   ]
  },
  {
   "cell_type": "code",
   "execution_count": null,
   "id": "f8b13473",
   "metadata": {},
   "outputs": [],
   "source": [
    "## List: Là một tập hợp có thể chứa nhiều kiểu dữ liệu. Được tạo trong []\n",
    "List = [integer, float, string]\n"
   ]
  },
  {
   "cell_type": "code",
   "execution_count": 1,
   "id": "bfd471d3",
   "metadata": {},
   "outputs": [],
   "source": [
    "A = [1, 2, 3.3, \"hi\", \"python\"] "
   ]
  },
  {
   "cell_type": "code",
   "execution_count": 4,
   "id": "ec4b5639",
   "metadata": {},
   "outputs": [],
   "source": [
    "# Có thể chứa những giá trị dup\n",
    "A = [1,2,3,2]"
   ]
  },
  {
   "cell_type": "code",
   "execution_count": 5,
   "id": "6fba851c",
   "metadata": {},
   "outputs": [
    {
     "name": "stdout",
     "output_type": "stream",
     "text": [
      "[1, 2, 3, 2]\n"
     ]
    }
   ],
   "source": [
    "print(A)"
   ]
  },
  {
   "cell_type": "code",
   "execution_count": 6,
   "id": "b63f1c28",
   "metadata": {},
   "outputs": [],
   "source": [
    "# List có thể thay đổi sau khi tạo\n",
    "A = [1, 2, 3, 4, 5]"
   ]
  },
  {
   "cell_type": "code",
   "execution_count": 7,
   "id": "d2907d30",
   "metadata": {},
   "outputs": [],
   "source": [
    "#Append()- Thêm 1 giá trị mới \n",
    "A.append(6)"
   ]
  },
  {
   "cell_type": "code",
   "execution_count": 8,
   "id": "b79a7c68",
   "metadata": {},
   "outputs": [
    {
     "name": "stdout",
     "output_type": "stream",
     "text": [
      "[1, 2, 3, 4, 5, 6]\n"
     ]
    }
   ],
   "source": [
    "print(A)"
   ]
  },
  {
   "cell_type": "code",
   "execution_count": null,
   "id": "be411608",
   "metadata": {},
   "outputs": [],
   "source": [
    "#Insert()- thêm 1 giá trị mới tại index đã cho"
   ]
  },
  {
   "cell_type": "code",
   "execution_count": 9,
   "id": "c98eaecb",
   "metadata": {},
   "outputs": [],
   "source": [
    "A.insert(2, 2.5)"
   ]
  },
  {
   "cell_type": "code",
   "execution_count": 10,
   "id": "0a811fe8",
   "metadata": {},
   "outputs": [
    {
     "data": {
      "text/plain": [
       "[1, 2, 2.5, 3, 4, 5, 6]"
      ]
     },
     "execution_count": 10,
     "metadata": {},
     "output_type": "execute_result"
    }
   ],
   "source": [
    "A"
   ]
  },
  {
   "cell_type": "code",
   "execution_count": null,
   "id": "c34a3fbc",
   "metadata": {},
   "outputs": [],
   "source": [
    "# Index() - show index của 1 giá trị"
   ]
  },
  {
   "cell_type": "code",
   "execution_count": 11,
   "id": "bcd52a51",
   "metadata": {},
   "outputs": [
    {
     "data": {
      "text/plain": [
       "2"
      ]
     },
     "execution_count": 11,
     "metadata": {},
     "output_type": "execute_result"
    }
   ],
   "source": [
    "A.index(2.5)"
   ]
  },
  {
   "cell_type": "code",
   "execution_count": null,
   "id": "7f7076be",
   "metadata": {},
   "outputs": [],
   "source": [
    "# Remove() - xóa 1 giá trị từ list"
   ]
  },
  {
   "cell_type": "code",
   "execution_count": 13,
   "id": "810bb2d7",
   "metadata": {},
   "outputs": [],
   "source": [
    "A.remove(2.5)"
   ]
  },
  {
   "cell_type": "code",
   "execution_count": 14,
   "id": "b924d175",
   "metadata": {},
   "outputs": [
    {
     "data": {
      "text/plain": [
       "[1, 2, 3, 4, 5, 6]"
      ]
     },
     "execution_count": 14,
     "metadata": {},
     "output_type": "execute_result"
    }
   ],
   "source": [
    "A"
   ]
  },
  {
   "cell_type": "code",
   "execution_count": null,
   "id": "38d40c66",
   "metadata": {},
   "outputs": [],
   "source": [
    "# Pop() - Xóa 1 giá trị từ 1 index đã cho"
   ]
  },
  {
   "cell_type": "code",
   "execution_count": 15,
   "id": "7def6f58",
   "metadata": {},
   "outputs": [
    {
     "data": {
      "text/plain": [
       "[1, 2, 3, 4, 5, 6]"
      ]
     },
     "execution_count": 15,
     "metadata": {},
     "output_type": "execute_result"
    }
   ],
   "source": [
    "A"
   ]
  },
  {
   "cell_type": "code",
   "execution_count": 16,
   "id": "29ca19e4",
   "metadata": {},
   "outputs": [
    {
     "data": {
      "text/plain": [
       "3"
      ]
     },
     "execution_count": 16,
     "metadata": {},
     "output_type": "execute_result"
    }
   ],
   "source": [
    "A.pop(2)"
   ]
  },
  {
   "cell_type": "code",
   "execution_count": 17,
   "id": "0318a8a0",
   "metadata": {},
   "outputs": [
    {
     "data": {
      "text/plain": [
       "[1, 2, 4, 5, 6]"
      ]
     },
     "execution_count": 17,
     "metadata": {},
     "output_type": "execute_result"
    }
   ],
   "source": [
    "A"
   ]
  },
  {
   "cell_type": "markdown",
   "id": "86dd7d72",
   "metadata": {},
   "source": [
    "## Tuple"
   ]
  },
  {
   "cell_type": "code",
   "execution_count": null,
   "id": "0df7cb28",
   "metadata": {},
   "outputs": [],
   "source": [
    "## Tuple: Là một tập hợp có thể chứa nhiều kiểu dữ liệu. Được tạo trong ()\n",
    "Tuple = (integer, float, string)"
   ]
  },
  {
   "cell_type": "code",
   "execution_count": 18,
   "id": "68bbd88f",
   "metadata": {},
   "outputs": [],
   "source": [
    "A = (\"hi\", \"python\", \"bye\")"
   ]
  },
  {
   "cell_type": "code",
   "execution_count": 19,
   "id": "dba062e7",
   "metadata": {},
   "outputs": [
    {
     "data": {
      "text/plain": [
       "('hi', 'python', 'bye')"
      ]
     },
     "execution_count": 19,
     "metadata": {},
     "output_type": "execute_result"
    }
   ],
   "source": [
    "A"
   ]
  },
  {
   "cell_type": "code",
   "execution_count": null,
   "id": "16b8ad06",
   "metadata": {},
   "outputs": [],
   "source": [
    "# Tuple cho phép giá trị duplicate"
   ]
  },
  {
   "cell_type": "code",
   "execution_count": 20,
   "id": "f8067a8c",
   "metadata": {},
   "outputs": [],
   "source": [
    "X = (1, 2, 2, 3)"
   ]
  },
  {
   "cell_type": "code",
   "execution_count": 21,
   "id": "3d6e2844",
   "metadata": {},
   "outputs": [
    {
     "data": {
      "text/plain": [
       "(1, 2, 2, 3)"
      ]
     },
     "execution_count": 21,
     "metadata": {},
     "output_type": "execute_result"
    }
   ],
   "source": [
    "X"
   ]
  },
  {
   "cell_type": "code",
   "execution_count": null,
   "id": "958f62e9",
   "metadata": {},
   "outputs": [],
   "source": [
    "## Tuple KHÔNG thể thay đổi được "
   ]
  },
  {
   "cell_type": "code",
   "execution_count": 1,
   "id": "15b65d5a",
   "metadata": {},
   "outputs": [],
   "source": [
    "X = (1, 2, 3, 4, \"hi\")"
   ]
  },
  {
   "cell_type": "code",
   "execution_count": 28,
   "id": "19cb4634",
   "metadata": {},
   "outputs": [
    {
     "data": {
      "text/plain": [
       "(1, 2, 3, 4, 'hi')"
      ]
     },
     "execution_count": 28,
     "metadata": {},
     "output_type": "execute_result"
    }
   ],
   "source": [
    "X"
   ]
  },
  {
   "cell_type": "code",
   "execution_count": 2,
   "id": "ab5eb3ea",
   "metadata": {},
   "outputs": [
    {
     "ename": "TypeError",
     "evalue": "'tuple' object does not support item assignment",
     "output_type": "error",
     "traceback": [
      "\u001b[1;31m---------------------------------------------------------------------------\u001b[0m",
      "\u001b[1;31mTypeError\u001b[0m                                 Traceback (most recent call last)",
      "Cell \u001b[1;32mIn[2], line 1\u001b[0m\n\u001b[1;32m----> 1\u001b[0m X[\u001b[38;5;241m2\u001b[39m] \u001b[38;5;241m=\u001b[39m \u001b[38;5;241m4\u001b[39m\n",
      "\u001b[1;31mTypeError\u001b[0m: 'tuple' object does not support item assignment"
     ]
    }
   ],
   "source": [
    "X[2] = 4"
   ]
  },
  {
   "cell_type": "markdown",
   "id": "1b07ba05",
   "metadata": {},
   "source": [
    "Tuple được dùng khi cần chuỗi giá trị mà sẽ không thay đổi về sau khi lập trình"
   ]
  },
  {
   "cell_type": "markdown",
   "id": "c91aedba",
   "metadata": {},
   "source": [
    "## SET"
   ]
  },
  {
   "cell_type": "code",
   "execution_count": null,
   "id": "264192c9",
   "metadata": {},
   "outputs": [],
   "source": [
    "## Set: Là một tập hợp có thể chứa nhiều kiểu dữ liệu. Được tạo trong {}\n",
    "Set = {integer, float, string}"
   ]
  },
  {
   "cell_type": "code",
   "execution_count": 30,
   "id": "492dab04",
   "metadata": {},
   "outputs": [],
   "source": [
    "A = {12, 13, 14}"
   ]
  },
  {
   "cell_type": "code",
   "execution_count": 31,
   "id": "daedeba1",
   "metadata": {},
   "outputs": [
    {
     "data": {
      "text/plain": [
       "{12, 13, 14}"
      ]
     },
     "execution_count": 31,
     "metadata": {},
     "output_type": "execute_result"
    }
   ],
   "source": [
    "A"
   ]
  },
  {
   "cell_type": "code",
   "execution_count": 32,
   "id": "d49580ca",
   "metadata": {},
   "outputs": [
    {
     "ename": "IndentationError",
     "evalue": "unexpected indent (3650336824.py, line 2)",
     "output_type": "error",
     "traceback": [
      "\u001b[1;36m  Cell \u001b[1;32mIn[32], line 2\u001b[1;36m\u001b[0m\n\u001b[1;33m    A[1]\u001b[0m\n\u001b[1;37m    ^\u001b[0m\n\u001b[1;31mIndentationError\u001b[0m\u001b[1;31m:\u001b[0m unexpected indent\n"
     ]
    }
   ],
   "source": [
    "## Set không được đánh index\n",
    " A[1]"
   ]
  },
  {
   "cell_type": "code",
   "execution_count": 33,
   "id": "986d6d3c",
   "metadata": {},
   "outputs": [],
   "source": [
    "# Set sắp xếp giá trị tăng dần\n",
    "A = {2, 1, 4, 3, 'hi', 'python', 'my'}"
   ]
  },
  {
   "cell_type": "code",
   "execution_count": 34,
   "id": "719359f6",
   "metadata": {},
   "outputs": [
    {
     "data": {
      "text/plain": [
       "{1, 2, 3, 4, 'hi', 'my', 'python'}"
      ]
     },
     "execution_count": 34,
     "metadata": {},
     "output_type": "execute_result"
    }
   ],
   "source": [
    "A"
   ]
  },
  {
   "cell_type": "code",
   "execution_count": null,
   "id": "c56bdac9",
   "metadata": {},
   "outputs": [],
   "source": [
    "# Set không cho duplicate giá trị"
   ]
  },
  {
   "cell_type": "code",
   "execution_count": 35,
   "id": "69ace874",
   "metadata": {},
   "outputs": [],
   "source": [
    "A = {1, 2, 2, 3}"
   ]
  },
  {
   "cell_type": "code",
   "execution_count": 36,
   "id": "5a4166e1",
   "metadata": {},
   "outputs": [
    {
     "data": {
      "text/plain": [
       "{1, 2, 3}"
      ]
     },
     "execution_count": 36,
     "metadata": {},
     "output_type": "execute_result"
    }
   ],
   "source": [
    "A"
   ]
  },
  {
   "cell_type": "code",
   "execution_count": null,
   "id": "9f9f0abc",
   "metadata": {},
   "outputs": [],
   "source": [
    "# Set: có thể thêm hoặc xóa giá trị"
   ]
  },
  {
   "cell_type": "code",
   "execution_count": 37,
   "id": "a7b122f1",
   "metadata": {},
   "outputs": [],
   "source": [
    "A = {2, 1, 4, 3, 'hi', 'python', 'my'}"
   ]
  },
  {
   "cell_type": "code",
   "execution_count": 38,
   "id": "cc100ab1",
   "metadata": {},
   "outputs": [],
   "source": [
    "A.add(67)"
   ]
  },
  {
   "cell_type": "code",
   "execution_count": 39,
   "id": "393818a5",
   "metadata": {},
   "outputs": [
    {
     "data": {
      "text/plain": [
       "{1, 2, 3, 4, 67, 'hi', 'my', 'python'}"
      ]
     },
     "execution_count": 39,
     "metadata": {},
     "output_type": "execute_result"
    }
   ],
   "source": [
    "A"
   ]
  },
  {
   "cell_type": "code",
   "execution_count": 40,
   "id": "f495c2c9",
   "metadata": {},
   "outputs": [],
   "source": [
    "A.remove(67)"
   ]
  },
  {
   "cell_type": "code",
   "execution_count": 41,
   "id": "67b5fdd8",
   "metadata": {},
   "outputs": [
    {
     "data": {
      "text/plain": [
       "{1, 2, 3, 4, 'hi', 'my', 'python'}"
      ]
     },
     "execution_count": 41,
     "metadata": {},
     "output_type": "execute_result"
    }
   ],
   "source": [
    "A"
   ]
  },
  {
   "cell_type": "code",
   "execution_count": 43,
   "id": "896d9348",
   "metadata": {},
   "outputs": [
    {
     "data": {
      "text/plain": [
       "1"
      ]
     },
     "execution_count": 43,
     "metadata": {},
     "output_type": "execute_result"
    }
   ],
   "source": [
    "# xóa bất kì giá trị nào\n",
    "A.pop()"
   ]
  },
  {
   "cell_type": "code",
   "execution_count": 44,
   "id": "445a1f3c",
   "metadata": {},
   "outputs": [
    {
     "data": {
      "text/plain": [
       "{2, 3, 4, 'hi', 'my', 'python'}"
      ]
     },
     "execution_count": 44,
     "metadata": {},
     "output_type": "execute_result"
    }
   ],
   "source": [
    "A"
   ]
  },
  {
   "cell_type": "markdown",
   "id": "636d187a",
   "metadata": {},
   "source": [
    "## DICTIONARY"
   ]
  },
  {
   "cell_type": "code",
   "execution_count": null,
   "id": "8e2579f3",
   "metadata": {},
   "outputs": [],
   "source": [
    "## Dictionary: Key:Value dạng. Được tạo trong {}\n",
    "Dictionary = {Key1:Value1, , Key2:Value2, Key3:Value3}"
   ]
  },
  {
   "cell_type": "code",
   "execution_count": 1,
   "id": "8381db45",
   "metadata": {},
   "outputs": [],
   "source": [
    "A = {1: 'a', 2: 'b', 3: 'c'}"
   ]
  },
  {
   "cell_type": "code",
   "execution_count": null,
   "id": "2d0c982a",
   "metadata": {},
   "outputs": [],
   "source": [
    "# Dictionary không cho duplicate keys, nhưng có thể cho duplicate values"
   ]
  },
  {
   "cell_type": "code",
   "execution_count": 2,
   "id": "0adcae22",
   "metadata": {},
   "outputs": [],
   "source": [
    "A = {1: 'a', 2: 'b', 3: 'c', 3: 'd'}"
   ]
  },
  {
   "cell_type": "code",
   "execution_count": 3,
   "id": "476bdde2",
   "metadata": {},
   "outputs": [
    {
     "data": {
      "text/plain": [
       "{1: 'a', 2: 'b', 3: 'd'}"
      ]
     },
     "execution_count": 3,
     "metadata": {},
     "output_type": "execute_result"
    }
   ],
   "source": [
    "A"
   ]
  },
  {
   "cell_type": "code",
   "execution_count": 4,
   "id": "266b204b",
   "metadata": {},
   "outputs": [],
   "source": [
    "A = {1: 'a', 2: 'b', 3: 'c', 4: 'c'}"
   ]
  },
  {
   "cell_type": "code",
   "execution_count": 8,
   "id": "b48afc45",
   "metadata": {},
   "outputs": [
    {
     "data": {
      "text/plain": [
       "{1: 'a', 2: 'b', 3: 'c', 4: 'c'}"
      ]
     },
     "execution_count": 8,
     "metadata": {},
     "output_type": "execute_result"
    }
   ],
   "source": [
    "A"
   ]
  },
  {
   "cell_type": "code",
   "execution_count": null,
   "id": "ef38fce8",
   "metadata": {},
   "outputs": [],
   "source": [
    "# Có thể thay đổi giá trị trong dictionary"
   ]
  },
  {
   "cell_type": "code",
   "execution_count": null,
   "id": "03a74ddd",
   "metadata": {},
   "outputs": [],
   "source": [
    "# get(key)"
   ]
  },
  {
   "cell_type": "code",
   "execution_count": 9,
   "id": "3ac143bb",
   "metadata": {},
   "outputs": [
    {
     "data": {
      "text/plain": [
       "'a'"
      ]
     },
     "execution_count": 9,
     "metadata": {},
     "output_type": "execute_result"
    }
   ],
   "source": [
    "A.get(1)"
   ]
  },
  {
   "cell_type": "code",
   "execution_count": null,
   "id": "23cfd911",
   "metadata": {},
   "outputs": [],
   "source": [
    "# items() - show tất cả cặp key-giá trị"
   ]
  },
  {
   "cell_type": "code",
   "execution_count": 10,
   "id": "f4e24bba",
   "metadata": {},
   "outputs": [
    {
     "data": {
      "text/plain": [
       "dict_items([(1, 'a'), (2, 'b'), (3, 'c'), (4, 'c')])"
      ]
     },
     "execution_count": 10,
     "metadata": {},
     "output_type": "execute_result"
    }
   ],
   "source": [
    "A.items()"
   ]
  },
  {
   "cell_type": "code",
   "execution_count": null,
   "id": "edc1b163",
   "metadata": {},
   "outputs": [],
   "source": [
    "# values() - show tất cả giá trị"
   ]
  },
  {
   "cell_type": "code",
   "execution_count": 11,
   "id": "b190c1ae",
   "metadata": {},
   "outputs": [
    {
     "data": {
      "text/plain": [
       "dict_values(['a', 'b', 'c', 'c'])"
      ]
     },
     "execution_count": 11,
     "metadata": {},
     "output_type": "execute_result"
    }
   ],
   "source": [
    "A.values()"
   ]
  },
  {
   "cell_type": "code",
   "execution_count": null,
   "id": "f87855d8",
   "metadata": {},
   "outputs": [],
   "source": [
    "# pop(key) - xóa key-giá trị"
   ]
  },
  {
   "cell_type": "code",
   "execution_count": 12,
   "id": "21aa20e8",
   "metadata": {},
   "outputs": [
    {
     "data": {
      "text/plain": [
       "'a'"
      ]
     },
     "execution_count": 12,
     "metadata": {},
     "output_type": "execute_result"
    }
   ],
   "source": [
    "A.pop(1)"
   ]
  },
  {
   "cell_type": "code",
   "execution_count": 13,
   "id": "95796891",
   "metadata": {},
   "outputs": [
    {
     "data": {
      "text/plain": [
       "{2: 'b', 3: 'c', 4: 'c'}"
      ]
     },
     "execution_count": 13,
     "metadata": {},
     "output_type": "execute_result"
    }
   ],
   "source": [
    "A"
   ]
  },
  {
   "cell_type": "code",
   "execution_count": null,
   "id": "88afb3d5",
   "metadata": {},
   "outputs": [],
   "source": [
    "List vs Tuple vs Set\n",
    "* List được tạo trong dấu [] ,             * Tuple được tạo trong dấu ()  ,               * Set được tạo trong dấu {}\n",
    "* Giá trị trong list có thể được thay đổi ,* Giá trị trong tuple không thể thay đổi được, * Có thể thêm hoặc xóa giá trị"
   ]
  }
 ],
 "metadata": {
  "kernelspec": {
   "display_name": "Python 3 (ipykernel)",
   "language": "python",
   "name": "python3"
  },
  "language_info": {
   "codemirror_mode": {
    "name": "ipython",
    "version": 3
   },
   "file_extension": ".py",
   "mimetype": "text/x-python",
   "name": "python",
   "nbconvert_exporter": "python",
   "pygments_lexer": "ipython3",
   "version": "3.10.9"
  }
 },
 "nbformat": 4,
 "nbformat_minor": 5
}
