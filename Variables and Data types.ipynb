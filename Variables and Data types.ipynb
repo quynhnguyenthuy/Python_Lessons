{
 "cells": [
  {
   "cell_type": "code",
   "execution_count": 3,
   "id": "8ad41159",
   "metadata": {},
   "outputs": [],
   "source": [
    "# Ctrl + / để nhiểu dòng thành comment"
   ]
  },
  {
   "cell_type": "code",
   "execution_count": null,
   "id": "8297aa26",
   "metadata": {},
   "outputs": [],
   "source": [
    "# ghi chu\n",
    "# ghi chu \n",
    "# ghi chu"
   ]
  },
  {
   "cell_type": "markdown",
   "id": "857e11eb",
   "metadata": {},
   "source": [
    "# Variables"
   ]
  },
  {
   "cell_type": "code",
   "execution_count": null,
   "id": "77ff6c5c",
   "metadata": {},
   "outputs": [],
   "source": [
    "# cộng hai số\n",
    ">>> 52348252408 + 523482034       \n",
    "52871734442\n",
    "# tiếp tục thực hiện việc tính toán\n",
    ">>> 52871734442 + 412312323       \n",
    "53284046765"
   ]
  },
  {
   "cell_type": "code",
   "execution_count": null,
   "id": "d59a269c",
   "metadata": {},
   "outputs": [],
   "source": [
    "# lưu giá trị 52348252408 cho biến a\n",
    ">>> a = 52348252408      \n",
    "# lưu giá trị 523482034 cho biến b\n",
    ">>> b = 523482034         \n",
    "# cộng giá trị hai biến a và b, sau đó lưu vào biến c\n",
    ">>> c = a + b                    \n",
    "# lưu giá trị 412312323 cho biến d\n",
    ">>> d = 412312323          \n",
    "# cộng giá trị biến c với giá trị biến d\n",
    ">>> c + d                          \n",
    "53284046765\n"
   ]
  },
  {
   "cell_type": "code",
   "execution_count": 25,
   "id": "7be4a842",
   "metadata": {},
   "outputs": [],
   "source": [
    "tuoi = 17"
   ]
  },
  {
   "cell_type": "code",
   "execution_count": 26,
   "id": "9154c4a5",
   "metadata": {},
   "outputs": [
    {
     "data": {
      "text/plain": [
       "int"
      ]
     },
     "execution_count": 26,
     "metadata": {},
     "output_type": "execute_result"
    }
   ],
   "source": [
    "# Kiểm tra kiểu dữ liệu của biến tuổi\n",
    "type(tuoi) "
   ]
  },
  {
   "cell_type": "code",
   "execution_count": 30,
   "id": "2edd5fdc",
   "metadata": {},
   "outputs": [],
   "source": [
    "Pi = 3.14"
   ]
  },
  {
   "cell_type": "code",
   "execution_count": 31,
   "id": "00cf04d2",
   "metadata": {},
   "outputs": [
    {
     "data": {
      "text/plain": [
       "float"
      ]
     },
     "execution_count": 31,
     "metadata": {},
     "output_type": "execute_result"
    }
   ],
   "source": [
    "type(Pi)"
   ]
  },
  {
   "cell_type": "code",
   "execution_count": 27,
   "id": "3d1a5fa3",
   "metadata": {},
   "outputs": [],
   "source": [
    "ten = \"How\""
   ]
  },
  {
   "cell_type": "code",
   "execution_count": 28,
   "id": "da1960e3",
   "metadata": {},
   "outputs": [
    {
     "data": {
      "text/plain": [
       "str"
      ]
     },
     "execution_count": 28,
     "metadata": {},
     "output_type": "execute_result"
    }
   ],
   "source": [
    "type(ten)"
   ]
  },
  {
   "cell_type": "markdown",
   "id": "a62cec90",
   "metadata": {},
   "source": [
    "# Integers"
   ]
  },
  {
   "cell_type": "code",
   "execution_count": 33,
   "id": "f163c4d6",
   "metadata": {},
   "outputs": [],
   "source": [
    "age = 21\n",
    "players = 2\n",
    "quantity = 5"
   ]
  },
  {
   "cell_type": "code",
   "execution_count": 34,
   "id": "5d88b6cd",
   "metadata": {},
   "outputs": [
    {
     "data": {
      "text/plain": [
       "int"
      ]
     },
     "execution_count": 34,
     "metadata": {},
     "output_type": "execute_result"
    }
   ],
   "source": [
    "type(age)"
   ]
  },
  {
   "cell_type": "code",
   "execution_count": 4,
   "id": "0411abb2",
   "metadata": {},
   "outputs": [
    {
     "name": "stdout",
     "output_type": "stream",
     "text": [
      "You are 21 years old\n"
     ]
    }
   ],
   "source": [
    "print(\"You are \" + str(age)+ \" years old\")"
   ]
  },
  {
   "cell_type": "code",
   "execution_count": 35,
   "id": "13f77322",
   "metadata": {},
   "outputs": [],
   "source": [
    "x = 654*6734"
   ]
  },
  {
   "cell_type": "code",
   "execution_count": 36,
   "id": "c7db0baf",
   "metadata": {},
   "outputs": [
    {
     "data": {
      "text/plain": [
       "int"
      ]
     },
     "execution_count": 36,
     "metadata": {},
     "output_type": "execute_result"
    }
   ],
   "source": [
    "type(x)"
   ]
  },
  {
   "cell_type": "markdown",
   "id": "1c9eb411",
   "metadata": {},
   "source": [
    "# Float"
   ]
  },
  {
   "cell_type": "code",
   "execution_count": 38,
   "id": "9808bf1d",
   "metadata": {},
   "outputs": [],
   "source": [
    "x = 1.7"
   ]
  },
  {
   "cell_type": "code",
   "execution_count": 39,
   "id": "16419cbf",
   "metadata": {},
   "outputs": [
    {
     "data": {
      "text/plain": [
       "float"
      ]
     },
     "execution_count": 39,
     "metadata": {},
     "output_type": "execute_result"
    }
   ],
   "source": [
    "type(x)"
   ]
  },
  {
   "cell_type": "markdown",
   "id": "9562c4dd",
   "metadata": {},
   "source": [
    "# Các toán tử cơ bản với kiểu dữ liệu số trong Python"
   ]
  },
  {
   "cell_type": "code",
   "execution_count": 7,
   "id": "b9fcaa02",
   "metadata": {},
   "outputs": [
    {
     "ename": "SyntaxError",
     "evalue": "invalid character '–' (U+2013) (461114013.py, line 5)",
     "output_type": "error",
     "traceback": [
      "\u001b[1;36m  Cell \u001b[1;32mIn[7], line 5\u001b[1;36m\u001b[0m\n\u001b[1;33m    a – b    # tương đương 8 trừ 3\u001b[0m\n\u001b[1;37m      ^\u001b[0m\n\u001b[1;31mSyntaxError\u001b[0m\u001b[1;31m:\u001b[0m invalid character '–' (U+2013)\n"
     ]
    }
   ],
   "source": [
    "a = 8\n",
    "b = 3\n",
    "\n",
    "a + b   # tương đương 8 cộng 3\n",
    "11\n",
    "a – b    # tương đương 8 trừ 3\n",
    "5\n",
    "a * b   # tương đương 8 nhân 3\n",
    "24\n",
    "a / b   # tương đương 8 chia 3\n",
    "2.6666666666666665\n",
    "a // b  # tương đương với 8 chia nguyên 3\n",
    "2\n",
    "a % b   # tương đương với 8 chia dư 3\n",
    "2\n",
    "a ** b   # tương đương 8 mũ 3\n",
    "512\n"
   ]
  },
  {
   "cell_type": "code",
   "execution_count": null,
   "id": "43da3cf4",
   "metadata": {},
   "outputs": [],
   "source": [
    "import math   # lấy nội dung của thư viện math về sử dụng\n",
    "math.trunc(3.9)\n",
    "3\n",
    "math.fabs(-3)\n",
    "3.0\n",
    "math.sqrt(16)\n",
    "4.0\n",
    "math.gcd(6, 4)\n",
    "2\n",
    "math.lcm(4, 5)\n",
    "20\n",
    "math.ceil(9.4)\n",
    "10\n",
    "\n"
   ]
  },
  {
   "cell_type": "markdown",
   "id": "afe0779b",
   "metadata": {},
   "source": [
    "# String"
   ]
  },
  {
   "cell_type": "code",
   "execution_count": 4,
   "id": "4e38c883",
   "metadata": {},
   "outputs": [],
   "source": [
    "course =\"Python Programming\""
   ]
  },
  {
   "cell_type": "code",
   "execution_count": 6,
   "id": "e2b003b6",
   "metadata": {},
   "outputs": [
    {
     "data": {
      "text/plain": [
       "str"
      ]
     },
     "execution_count": 6,
     "metadata": {},
     "output_type": "execute_result"
    }
   ],
   "source": [
    "type(course)"
   ]
  },
  {
   "cell_type": "code",
   "execution_count": 7,
   "id": "34be3389",
   "metadata": {},
   "outputs": [
    {
     "name": "stdout",
     "output_type": "stream",
     "text": [
      "18\n"
     ]
    }
   ],
   "source": [
    "print(len(course)) # độ dài giá trị trong biến"
   ]
  },
  {
   "cell_type": "code",
   "execution_count": 9,
   "id": "95149a22",
   "metadata": {},
   "outputs": [
    {
     "name": "stdout",
     "output_type": "stream",
     "text": [
      "P\n"
     ]
    }
   ],
   "source": [
    "print(course[0])# giá trị đầu tiên của chuỗi"
   ]
  },
  {
   "cell_type": "code",
   "execution_count": 11,
   "id": "799a3765",
   "metadata": {},
   "outputs": [
    {
     "name": "stdout",
     "output_type": "stream",
     "text": [
      "g\n"
     ]
    }
   ],
   "source": [
    "print(course[-1]) # giá trị cuối cùng của chuỗi"
   ]
  },
  {
   "cell_type": "code",
   "execution_count": 12,
   "id": "33bb4a66",
   "metadata": {},
   "outputs": [
    {
     "name": "stdout",
     "output_type": "stream",
     "text": [
      "Pyt\n"
     ]
    }
   ],
   "source": [
    "print(course[0:3])"
   ]
  },
  {
   "cell_type": "code",
   "execution_count": 13,
   "id": "48cee3f9",
   "metadata": {},
   "outputs": [
    {
     "name": "stdout",
     "output_type": "stream",
     "text": [
      "Python Programming\n"
     ]
    }
   ],
   "source": [
    "print(course[0:])"
   ]
  },
  {
   "cell_type": "code",
   "execution_count": 14,
   "id": "e5317f30",
   "metadata": {},
   "outputs": [
    {
     "name": "stdout",
     "output_type": "stream",
     "text": [
      "Pyt\n"
     ]
    }
   ],
   "source": [
    "print(course[:3])"
   ]
  },
  {
   "cell_type": "code",
   "execution_count": 15,
   "id": "d3dc896f",
   "metadata": {},
   "outputs": [
    {
     "name": "stdout",
     "output_type": "stream",
     "text": [
      "Python Programming\n"
     ]
    }
   ],
   "source": [
    "print(course[:])"
   ]
  },
  {
   "cell_type": "code",
   "execution_count": 1,
   "id": "cb16a693",
   "metadata": {},
   "outputs": [],
   "source": [
    "name = \"Bro\""
   ]
  },
  {
   "cell_type": "code",
   "execution_count": 5,
   "id": "c1cdbf7b",
   "metadata": {
    "scrolled": true
   },
   "outputs": [
    {
     "name": "stdout",
     "output_type": "stream",
     "text": [
      "Hello Bro\n",
      "Hello Bro\n"
     ]
    }
   ],
   "source": [
    "print(\"Hello \" + name)\n",
    "print(f\"Hello {name}\")"
   ]
  },
  {
   "cell_type": "code",
   "execution_count": 16,
   "id": "ac977f1b",
   "metadata": {},
   "outputs": [
    {
     "name": "stdout",
     "output_type": "stream",
     "text": [
      "PYTHON PROGRAMMING\n"
     ]
    }
   ],
   "source": [
    "print(course.upper())"
   ]
  },
  {
   "cell_type": "code",
   "execution_count": 17,
   "id": "f2c863af",
   "metadata": {},
   "outputs": [
    {
     "name": "stdout",
     "output_type": "stream",
     "text": [
      "python programming\n"
     ]
    }
   ],
   "source": [
    "print(course.lower())"
   ]
  },
  {
   "cell_type": "code",
   "execution_count": 19,
   "id": "be4d9044",
   "metadata": {},
   "outputs": [
    {
     "name": "stdout",
     "output_type": "stream",
     "text": [
      "Python Programming\n"
     ]
    }
   ],
   "source": [
    "print(course.title())"
   ]
  },
  {
   "cell_type": "code",
   "execution_count": 20,
   "id": "02b541e1",
   "metadata": {},
   "outputs": [
    {
     "name": "stdout",
     "output_type": "stream",
     "text": [
      "Python Programming\n"
     ]
    }
   ],
   "source": [
    "print(course.strip()) # loại bỏ dấu cách ở đầu và cuối chuỗi"
   ]
  },
  {
   "cell_type": "code",
   "execution_count": 22,
   "id": "9e072cfc",
   "metadata": {},
   "outputs": [
    {
     "name": "stdout",
     "output_type": "stream",
     "text": [
      "7\n"
     ]
    }
   ],
   "source": [
    "print(course.find(\"Pro\"))"
   ]
  },
  {
   "cell_type": "code",
   "execution_count": 23,
   "id": "b6aff934",
   "metadata": {},
   "outputs": [
    {
     "name": "stdout",
     "output_type": "stream",
     "text": [
      "python programming\n"
     ]
    }
   ],
   "source": [
    "print(course.replace(\"P\", \"p\"))"
   ]
  },
  {
   "cell_type": "code",
   "execution_count": 24,
   "id": "dea3e455",
   "metadata": {},
   "outputs": [
    {
     "name": "stdout",
     "output_type": "stream",
     "text": [
      "True\n"
     ]
    }
   ],
   "source": [
    "print(\"Pro\" in course)"
   ]
  },
  {
   "cell_type": "code",
   "execution_count": null,
   "id": "e548584d",
   "metadata": {},
   "outputs": [],
   "source": [
    "# BOOLEAN"
   ]
  },
  {
   "cell_type": "code",
   "execution_count": 6,
   "id": "2ccf539f",
   "metadata": {},
   "outputs": [],
   "source": [
    "online = True\n",
    "for_sale = False\n",
    "running = True"
   ]
  },
  {
   "cell_type": "code",
   "execution_count": 7,
   "id": "5391bbdd",
   "metadata": {},
   "outputs": [
    {
     "name": "stdout",
     "output_type": "stream",
     "text": [
      "Are you online?: True\n",
      "Is the item for sale?: False\n"
     ]
    }
   ],
   "source": [
    "print(f\"Are you online?: {online}\")\n",
    "print(f\"Is the item for sale?: {for_sale}\")"
   ]
  },
  {
   "cell_type": "markdown",
   "id": "c81cc2aa",
   "metadata": {},
   "source": [
    "# Tip đặt tên biến "
   ]
  },
  {
   "cell_type": "code",
   "execution_count": 13,
   "id": "24d4fedf",
   "metadata": {},
   "outputs": [],
   "source": [
    "(x,y,z)=1,1,1"
   ]
  },
  {
   "cell_type": "code",
   "execution_count": 14,
   "id": "a6a87ceb",
   "metadata": {},
   "outputs": [],
   "source": [
    "x=y=z=1"
   ]
  },
  {
   "cell_type": "code",
   "execution_count": 15,
   "id": "280e5138",
   "metadata": {},
   "outputs": [
    {
     "name": "stdout",
     "output_type": "stream",
     "text": [
      "1 1 1\n"
     ]
    }
   ],
   "source": [
    "print(x,y,z)"
   ]
  },
  {
   "cell_type": "markdown",
   "id": "dde78ed5",
   "metadata": {},
   "source": [
    "### Quy định đặt tên biến\n",
    "- Bắt đầu là chữ cái (A-Z, a-z) hoặc dấu gạch dưới(_)\n",
    "- Theo sau bởi 0 hoặc nhiều chữ cái, dấu gạch dưới hoặc các chữ số(từ 0 tới 9)\n",
    "- Không đặt trùng tên từ khóa\n",
    "- Không dùng ký tự đặc biệt (ví dụ @, $, và %) trong định danh\n",
    "- Phân biệt hoa thường (samsung, Samsung, samSung là khác nhau)\n",
    "\n",
    "VD:\n",
    "- Tên hợp lệ: age, _age, student10,_student_10\n",
    "- Tên không hợp lệ: 1student, python-student, student$. "
   ]
  },
  {
   "cell_type": "code",
   "execution_count": 16,
   "id": "3bfab61a",
   "metadata": {},
   "outputs": [],
   "source": [
    "abc=100"
   ]
  },
  {
   "cell_type": "code",
   "execution_count": 17,
   "id": "58fed3b4",
   "metadata": {},
   "outputs": [],
   "source": [
    "_abc=100"
   ]
  },
  {
   "cell_type": "code",
   "execution_count": 18,
   "id": "ddee03bd",
   "metadata": {},
   "outputs": [
    {
     "ename": "SyntaxError",
     "evalue": "invalid decimal literal (671370871.py, line 1)",
     "output_type": "error",
     "traceback": [
      "\u001b[1;36m  Cell \u001b[1;32mIn[18], line 1\u001b[1;36m\u001b[0m\n\u001b[1;33m    3a=10\u001b[0m\n\u001b[1;37m    ^\u001b[0m\n\u001b[1;31mSyntaxError\u001b[0m\u001b[1;31m:\u001b[0m invalid decimal literal\n"
     ]
    }
   ],
   "source": [
    "3a=10"
   ]
  },
  {
   "cell_type": "markdown",
   "id": "e3d06abd",
   "metadata": {},
   "source": [
    "Phương pháp học \n",
    "NO: Cố nhớ --> Đau đầu, quá tải\n",
    "YES: Hiểu. Nhớ ý tưởng. Khi nào cần, mở lại bài giảng/search Google để tra cứu."
   ]
  }
 ],
 "metadata": {
  "kernelspec": {
   "display_name": "Python 3 (ipykernel)",
   "language": "python",
   "name": "python3"
  },
  "language_info": {
   "codemirror_mode": {
    "name": "ipython",
    "version": 3
   },
   "file_extension": ".py",
   "mimetype": "text/x-python",
   "name": "python",
   "nbconvert_exporter": "python",
   "pygments_lexer": "ipython3",
   "version": "3.10.9"
  }
 },
 "nbformat": 4,
 "nbformat_minor": 5
}
